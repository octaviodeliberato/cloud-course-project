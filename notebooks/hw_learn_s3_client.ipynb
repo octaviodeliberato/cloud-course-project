try:
    from mypy_boto3_s3.type_defs import ListObjectsV2OutputTypeDef
except ImportError:
    print("boto3-stubs[s3] not installed")


def list_all_object_keys_in_bucket(bucket_name: str) -> list[str]:
    """
    List all objects in an S3 bucket with pagination support.

    :param bucket_name: Name of the bucket to list objects from
    :return: List of object keys
    """
    object_keys = []
    continuation_token = None
    
    while True:
        try:
            if continuation_token:
                response = S3_CLIENT.list_objects_v2(Bucket=bucket_name, ContinuationToken=continuation_token)
            else:
                response = S3_CLIENT.list_objects_v2(Bucket=bucket_name)
            
            if 'Contents' in response:
                for obj in response['Contents']:
                    object_keys.append(obj['Key'])
            
            if not response.get('IsTruncated'):
                break
            continuation_token = response.get('NextContinuationToken')
            
        except Exception as e:
            print(f"Error listing objects in bucket {bucket_name}: {e}")
            break
    
    return object_keys
    


# List all objects in the bucket
objects = list_all_object_keys_in_bucket(BUCKET_NAME)
if objects:
    print("Objects in bucket:")
    for obj in objects:
        print(f" - {obj}")